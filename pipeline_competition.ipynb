{
 "cells": [
  {
   "cell_type": "markdown",
   "metadata": {},
   "source": [
    "## 1. Load data"
   ]
  },
  {
   "cell_type": "code",
   "execution_count": 2,
   "metadata": {},
   "outputs": [],
   "source": [
    "import numpy as np\n",
    "from helpers import load_data\n",
    "\n",
    "train_path = \"./data/train.csv\"\n",
    "test_path = \"./data/test.csv\"\n",
    "sample_path = \"./datasample-submission.csv\""
   ]
  },
  {
   "cell_type": "code",
   "execution_count": 3,
   "metadata": {},
   "outputs": [
    {
     "name": "stdout",
     "output_type": "stream",
     "text": [
      "(250000, 12) (250000, 17) (250000,)\n"
     ]
    }
   ],
   "source": [
    "data_DER, data_PRI, labels = load_data(train_path, sub_sample=False)\n",
    "print(data_DER.shape, data_PRI.shape, labels.shape)"
   ]
  },
  {
   "cell_type": "code",
   "execution_count": 4,
   "metadata": {},
   "outputs": [
    {
     "name": "stdout",
     "output_type": "stream",
     "text": [
      "(250000, 29)\n"
     ]
    }
   ],
   "source": [
    "features = np.hstack([data_DER, data_PRI])\n",
    "print(features.shape)"
   ]
  },
  {
   "cell_type": "markdown",
   "metadata": {},
   "source": [
    "## 2. Preprocess data"
   ]
  },
  {
   "cell_type": "code",
   "execution_count": 26,
   "metadata": {},
   "outputs": [
    {
     "name": "stdout",
     "output_type": "stream",
     "text": [
      "[-6.08338842e-14 -5.86481808e-14 -2.27427734e-14  3.06118394e-12\n",
      "  1.92967673e-12  3.05593076e-12 -1.01884043e-11  5.11384814e-14\n",
      "  6.10630737e-14  4.25036946e-12  6.77316055e-11  3.12946164e-12\n",
      "  4.93599461e-15  4.28346237e-12  1.64100965e-12 -1.28360976e-13\n",
      "  4.93923297e-13  1.56916105e-13  3.10176833e-14 -1.99874923e-12\n",
      " -6.55965828e-14  1.01017205e-10  4.41391325e-13  8.68616814e-13\n",
      "  8.61995463e-13  2.86682454e-12  3.05812320e-12  3.08563190e-12\n",
      "  2.65435187e-12]\n",
      "[1. 1. 1. 1. 1. 1. 1. 1. 1. 1. 1. 1. 1. 1. 1. 1. 1. 1. 1. 1. 1. 1. 1. 1.\n",
      " 1. 1. 1. 1. 1.]\n"
     ]
    }
   ],
   "source": [
    "# normalize data\n",
    "\n",
    "features_mean = features.mean(axis=0)\n",
    "features_std = features.std(axis=0)\n",
    "features = (features - features_mean) / features_std\n",
    "\n",
    "print(features.mean(axis=0))\n",
    "print(features.std(axis=0))"
   ]
  },
  {
   "cell_type": "markdown",
   "metadata": {},
   "source": [
    "## 3. Train model with all features"
   ]
  },
  {
   "cell_type": "code",
   "execution_count": 27,
   "metadata": {},
   "outputs": [
    {
     "name": "stdout",
     "output_type": "stream",
     "text": [
      "(200000, 29) (200000,)\n",
      "(50000, 29) (50000,)\n"
     ]
    }
   ],
   "source": [
    "# split data\n",
    "from helpers import train_test_split\n",
    "features_tr, features_te, labels_tr, labels_te = train_test_split(labels, features, 0.8, seed=42)\n",
    "print(features_tr.shape, labels_tr.shape)\n",
    "print(features_te.shape, labels_te.shape)"
   ]
  },
  {
   "cell_type": "markdown",
   "metadata": {},
   "source": [
    "### 3.1 Least square GD"
   ]
  },
  {
   "cell_type": "code",
   "execution_count": 38,
   "metadata": {},
   "outputs": [
    {
     "name": "stdout",
     "output_type": "stream",
     "text": [
      "gamme: 0.1 \ttrain loss: mean=0.143717, std=0.000298         \ttest loss: mean=0.143764, std=0.001190\n",
      "gamme: 0.01 \ttrain loss: mean=0.143827, std=0.000301         \ttest loss: mean=0.143867, std=0.001260\n",
      "gamme: 0.001 \ttrain loss: mean=0.148650, std=0.000361         \ttest loss: mean=0.148674, std=0.001455\n",
      "gamme: 0.0001 \ttrain loss: mean=0.159751, std=0.000369         \ttest loss: mean=0.159757, std=0.001492\n",
      "gamme: 1e-05 \ttrain loss: mean=0.168674, std=0.000375         \ttest loss: mean=0.168675, std=0.001504\n"
     ]
    }
   ],
   "source": [
    "from helpers import kfold_split, compute_loss\n",
    "from implementations import mean_squared_error_gd\n",
    "\n",
    "k_fold = 5\n",
    "max_iter = 2000\n",
    "gammas = [1e-1, 1e-2, 1e-3, 1e-4, 1e-5]\n",
    "mse_tr = np.zeros((len(gammas), k_fold))\n",
    "mse_te = np.zeros((len(gammas), k_fold))\n",
    "\n",
    "initial_w = np.zeros((features.shape[1]))\n",
    "\n",
    "for i, gamma in enumerate(gammas):\n",
    "    for j, (x_tr, x_te, y_tr, y_te) in enumerate(kfold_split(labels_tr, features_tr, k_fold, seed=42)):\n",
    "\n",
    "        w, l_tr = mean_squared_error_gd(y_tr, x_tr, initial_w, max_iter, gamma)\n",
    "        l_te = compute_loss(y_te, x_te, w)\n",
    "\n",
    "        mse_tr[i,j] = l_tr\n",
    "        mse_te[i,j] = l_te\n",
    "\n",
    "    print(f\"gamme: {gamma} \\ttrain loss: mean={mse_tr[i].mean():5f}, std={mse_tr[i].std():5f} \\\n",
    "        \\ttest loss: mean={mse_te[i].mean():5f}, std={mse_te[i].std():5f}\")\n",
    "\n"
   ]
  },
  {
   "cell_type": "code",
   "execution_count": null,
   "metadata": {},
   "outputs": [],
   "source": [
    "# Compute accuracy"
   ]
  },
  {
   "cell_type": "markdown",
   "metadata": {},
   "source": [
    "### 3.2 Least square SGD"
   ]
  },
  {
   "cell_type": "code",
   "execution_count": null,
   "metadata": {},
   "outputs": [],
   "source": [
    "from implementations import least_squares_SGD"
   ]
  },
  {
   "cell_type": "markdown",
   "metadata": {},
   "source": [
    "### 3.3 Least Squares with normal equation"
   ]
  },
  {
   "cell_type": "code",
   "execution_count": null,
   "metadata": {},
   "outputs": [],
   "source": [
    "from implementations import least_squares"
   ]
  }
 ],
 "metadata": {
  "kernelspec": {
   "display_name": "Python 3.10.4 ('ml-cs433')",
   "language": "python",
   "name": "python3"
  },
  "language_info": {
   "codemirror_mode": {
    "name": "ipython",
    "version": 3
   },
   "file_extension": ".py",
   "mimetype": "text/x-python",
   "name": "python",
   "nbconvert_exporter": "python",
   "pygments_lexer": "ipython3",
   "version": "3.10.4"
  },
  "orig_nbformat": 4,
  "vscode": {
   "interpreter": {
    "hash": "2c300989436866e0f2bdaf2ad700bc3bcca33acbeb9f30e204547f5a0aa3fb11"
   }
  }
 },
 "nbformat": 4,
 "nbformat_minor": 2
}
